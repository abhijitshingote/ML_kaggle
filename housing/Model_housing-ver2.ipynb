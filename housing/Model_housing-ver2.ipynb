{
 "cells": [
  {
   "cell_type": "code",
   "execution_count": 25,
   "metadata": {
    "collapsed": false
   },
   "outputs": [],
   "source": [
    "import pandas as pd\n",
    "from sklearn import preprocessing\n",
    "%matplotlib inline\n",
    "from operator import itemgetter\n",
    "from sklearn import model_selection\n",
    "\n",
    "\n",
    "# Models\n",
    "from sklearn import linear_model\n",
    "from sklearn.feature_selection import SelectPercentile\n",
    "from sklearn.ensemble import RandomForestRegressor"
   ]
  },
  {
   "cell_type": "code",
   "execution_count": 26,
   "metadata": {
    "collapsed": false
   },
   "outputs": [],
   "source": [
    "# Import Data\n",
    "train_imported_data=pd.read_csv('train.csv',index_col=0)\n",
    "# drop features because lot of NAs\n",
    "train_imported_data=train_imported_data.drop(['PoolQC','MiscFeature','Alley','Fence','FireplaceQu'],axis=1)\n",
    "\n",
    "# Prepare Data\n",
    "# Numeric Columns\n",
    "numericcol_df=train_imported_data[train_imported_data.describe().columns]\n",
    "numericcol_df=numericcol_df.dropna()\n",
    "numericcol_df['Age']=2018 - numericcol_df['YearBuilt']\n",
    "numericcol_df['AgeafterRemod']=2018 - numericcol_df['YearRemodAdd']\n",
    "numericcol_df=numericcol_df.drop(['YearBuilt','YearRemodAdd'],axis=1)\n",
    "\n",
    "# non numeric columns - One Hot Encode\n",
    "nonnumericcols=train_imported_data.describe(include=['O']).columns\n",
    "nonnumeric_df=pd.get_dummies(train_imported_data[nonnumericcols],columns=nonnumericcols)\n",
    "\n",
    "# Combine numerical and categorical columns in one dataframe\n",
    "bigdf=numericcol_df.join(nonnumeric_df)"
   ]
  },
  {
   "cell_type": "code",
   "execution_count": 27,
   "metadata": {
    "collapsed": false
   },
   "outputs": [
    {
     "name": "stdout",
     "output_type": "stream",
     "text": [
      "LinearRegression: 0.76 \n",
      "\n",
      "RandomForest: 0.84 \n",
      "\n"
     ]
    }
   ],
   "source": [
    "# Check model performance\n",
    "bigdf_traincols=[col for col in bigdf.columns if col !='SalePrice']\n",
    "\n",
    "lr=linear_model.LinearRegression()\n",
    "rf=RandomForestRegressor()\n",
    "scores_lr=model_selection.cross_val_score(X=bigdf[bigdf_traincols],y=bigdf.SalePrice,cv=5,estimator=lr)\n",
    "scores_rf=model_selection.cross_val_score(X=bigdf[bigdf_traincols],y=bigdf.SalePrice,cv=5,estimator=rf)\n",
    "print('LinearRegression:',round(scores_lr.mean(),2),'\\n')\n",
    "print('RandomForest:',round(scores_rf.mean(),2),'\\n')"
   ]
  },
  {
   "cell_type": "code",
   "execution_count": 28,
   "metadata": {
    "collapsed": false
   },
   "outputs": [
    {
     "name": "stdout",
     "output_type": "stream",
     "text": [
      "Number of columns:  10\n",
      "LinearRegression: 0.759 \n",
      "\n",
      "RandomForest: 0.838 \n",
      "\n",
      "Number of columns:  20\n",
      "LinearRegression: 0.798 \n",
      "\n",
      "RandomForest: 0.851 \n",
      "\n",
      "Number of columns:  30\n",
      "LinearRegression: 0.809 \n",
      "\n",
      "RandomForest: 0.823 \n",
      "\n",
      "Number of columns:  40\n",
      "LinearRegression: 0.798 \n",
      "\n",
      "RandomForest: 0.838 \n",
      "\n",
      "Number of columns:  50\n",
      "LinearRegression: 0.804 \n",
      "\n",
      "RandomForest: 0.857 \n",
      "\n",
      "Number of columns:  60\n",
      "LinearRegression: 0.796 \n",
      "\n",
      "RandomForest: 0.833 \n",
      "\n",
      "Number of columns:  70\n",
      "LinearRegression: -164022914.56 \n",
      "\n",
      "RandomForest: 0.835 \n",
      "\n",
      "Number of columns:  80\n",
      "LinearRegression: -180854165.683 \n",
      "\n",
      "RandomForest: 0.846 \n",
      "\n",
      "Number of columns:  90\n",
      "LinearRegression: -180854165.683 \n",
      "\n",
      "RandomForest: 0.839 \n",
      "\n"
     ]
    }
   ],
   "source": [
    "newcolsforgrouping=[col.split('_')[0] for col in bigdf_traincols]\n",
    "\n",
    "rf.fit(bigdf[bigdf_traincols],y=bigdf.SalePrice)\n",
    "importance_df=pd.DataFrame({'colname':newcolsforgrouping,\n",
    "             'importancescore':rf.feature_importances_*1000})\n",
    "importance_df=importance_df.groupby('colname').sum().sort_values(by='importancescore',ascending=False)\n",
    "\n",
    "impcolsonly=[col for col in bigdf_traincols if col.split('_')[0] in importance_df.index[:30]]\n",
    "\n",
    "num_cols_array=range(10,100,10)\n",
    "for num_cols in num_cols_array:\n",
    "\n",
    "    impcolsonly=[col for col in bigdf_traincols if col.split('_')[0] in importance_df.index[:num_cols]]\n",
    "    lr=linear_model.LinearRegression()\n",
    "    rf=RandomForestRegressor()\n",
    "    scores_lr=model_selection.cross_val_score(X=bigdf[impcolsonly],y=bigdf.SalePrice,cv=10,estimator=lr)\n",
    "    scores_rf=model_selection.cross_val_score(X=bigdf[impcolsonly],y=bigdf.SalePrice,cv=10,estimator=rf)\n",
    "    print('Number of columns: ',num_cols)\n",
    "    print('LinearRegression:',round(scores_lr.mean(),3),'\\n')\n",
    "    print('RandomForest:',round(scores_rf.mean(),3),'\\n')"
   ]
  },
  {
   "cell_type": "code",
   "execution_count": 29,
   "metadata": {
    "collapsed": false
   },
   "outputs": [
    {
     "data": {
      "text/plain": [
       "Index(['OverallQual', 'GrLivArea', '2ndFlrSF', 'BsmtFinSF1', 'TotalBsmtSF',\n",
       "       '1stFlrSF', 'GarageArea', 'GarageYrBlt', 'GarageFinish', 'LotArea',\n",
       "       'FullBath', 'BsmtUnfSF', 'Age', 'AgeafterRemod', 'WoodDeckSF',\n",
       "       'LotFrontage', 'Neighborhood', 'TotRmsAbvGrd', 'Condition1',\n",
       "       'OverallCond', 'GarageType', 'MasVnrArea', 'ExterQual', 'SaleType',\n",
       "       'OpenPorchSF', 'MoSold', 'KitchenQual', 'ScreenPorch', 'LotConfig',\n",
       "       'BsmtQual', 'Exterior2nd', 'BsmtFinType1', 'CentralAir',\n",
       "       'SaleCondition', 'HalfBath', 'BsmtExposure', 'Fireplaces',\n",
       "       'Exterior1st', 'RoofStyle', 'YrSold'],\n",
       "      dtype='object', name='colname')"
      ]
     },
     "execution_count": 29,
     "metadata": {},
     "output_type": "execute_result"
    }
   ],
   "source": [
    "# As we can see the performance is highest with 40 columns, so we will selct those 40 columns and futrther tune \n",
    "# them to improve the model\n",
    "importance_df.index[:40]"
   ]
  },
  {
   "cell_type": "code",
   "execution_count": 95,
   "metadata": {
    "collapsed": false
   },
   "outputs": [],
   "source": [
    "## TRAINING THE MODEL\n",
    "\n",
    "# Prepping the data\n",
    "def preprocess_data(filename):\n",
    "    df=pd.read_csv(filename,index_col=0)\n",
    "    df['Age']=2018 - df['YearBuilt']\n",
    "    df['AgeafterRemod']=2018 - df['YearRemodAdd']\n",
    "    df['MonthSinceSold']=[round((datetime.date(2018,1,1) -datetime.date(item[0],item[1],1)).days/30,2) for item in list(zip(df.YrSold.values.tolist(),df.MoSold.values.tolist()))]\n",
    "    df= df[importance_df.index[:40]]\n",
    "    df=df.drop(['YrSold','MoSold'],axis=1)\n",
    "    cat_cols=df.describe(include=['O']).columns\n",
    "    df=pd.get_dummies(df)\n",
    "    \n",
    "#     df['LotFrontage']=df['LotFrontage'].fillna(df['LotFrontage'].mean())\n",
    "#     df['GarageYrBlt']=df['GarageYrBlt'].fillna(df['GarageYrBlt'].mean())\n",
    "#     df['MasVnrArea']=df['MasVnrArea'].fillna(df['MasVnrArea'].mean())\n",
    "    \n",
    "    for eachcol in df.columns:\n",
    "        df[eachcol]=df[eachcol].fillna(df[eachcol].mean())\n",
    "    return df\n"
   ]
  },
  {
   "cell_type": "code",
   "execution_count": 96,
   "metadata": {
    "collapsed": false
   },
   "outputs": [],
   "source": [
    "preppeddata=preprocess_data('train.csv')\n",
    "traindata=pd.read_csv('train.csv',index_col=0)\n",
    "preppeddata=preppeddata.join(traindata[['SalePrice']],how='inner')\n",
    "traincols=[x for x in preppeddata if x !='SalePrice']"
   ]
  },
  {
   "cell_type": "code",
   "execution_count": 115,
   "metadata": {
    "collapsed": false
   },
   "outputs": [
    {
     "name": "stdout",
     "output_type": "stream",
     "text": [
      "0.8373804197068248\n"
     ]
    }
   ],
   "source": [
    "# Random Forest\n",
    "\n",
    "rf_1=RandomForestRegressor()\n",
    "# scores=model_selection.cross_val_score(X=preppeddata[traincols],y=preppeddata.SalePrice,cv=5,estimator=rf_1)\n",
    "\n",
    "X_train, X_test, y_train, y_test=model_selection.train_test_split(preppeddata[traincols],\n",
    "                                                                  preppeddata.SalePrice,\n",
    "                                                                 test_size=0.4,\n",
    "                                                                 )\n",
    "rf_1.fit(X_train,y_train)\n",
    "print(rf_1.score(X_test,y_test))\n",
    "\n",
    "# Checking the score on Test\n",
    "testdata=preprocess_data('test.csv')\n",
    "testdata['Exterior2nd_Other']=0\n",
    "testdata['Exterior1st_ImStucc']=0\n",
    "testdata['Exterior1st_Stone']=0\n",
    "\n",
    "testdata=testdata[traincols]\n",
    "\n",
    "saleprice_test_rf=rf_1.predict(X=testdata)\n",
    "\n",
    "submission_df_rf=pd.DataFrame({'Id':testdata.index,\n",
    "                           'SalePrice':saleprice_test_rf})\n",
    "submission_df_rf.to_csv('submission_rf.csv',index=None)"
   ]
  },
  {
   "cell_type": "code",
   "execution_count": 118,
   "metadata": {
    "collapsed": false
   },
   "outputs": [
    {
     "name": "stdout",
     "output_type": "stream",
     "text": [
      "0.8891526420764224\n"
     ]
    }
   ],
   "source": [
    "# XGBOOST\n",
    "\n",
    "import xgboost\n",
    "xgmod=xgboost.XGBRegressor()\n",
    "scores_xg=model_selection.cross_val_score(X=preppeddata[traincols],y=preppeddata.SalePrice,cv=10,estimator=xgmod)\n",
    "print(scores_xg.mean())\n",
    "\n",
    "xgmod.fit(X=preppeddata[traincols],y=preppeddata.SalePrice)\n",
    "saleprice_test_xg=xgmod.predict(testdata)\n",
    "\n",
    "submission_df_xg=pd.DataFrame({'Id':testdata.index,\n",
    "                           'SalePrice':saleprice_test_xg})\n",
    "submission_df_xg.to_csv('submission_xg.csv',index=None)"
   ]
  },
  {
   "cell_type": "code",
   "execution_count": 113,
   "metadata": {
    "collapsed": false
   },
   "outputs": [
    {
     "name": "stdout",
     "output_type": "stream",
     "text": [
      "Fitting 2 folds for each of 27 candidates, totalling 54 fits\n"
     ]
    },
    {
     "name": "stderr",
     "output_type": "stream",
     "text": [
      "[Parallel(n_jobs=1)]: Done  54 out of  54 | elapsed:  1.4min finished\n"
     ]
    },
    {
     "name": "stdout",
     "output_type": "stream",
     "text": [
      " Score: 0.848399359146077\n",
      "{'max_depth': 3, 'n_estimators': 500, 'min_child_weight': 1}\n"
     ]
    }
   ],
   "source": [
    "cv_params = {'max_depth': [3,5,7], 'min_child_weight': [1,3,5],'n_estimators': [100,500,1000]}\n",
    "\n",
    "gsmodel=model_selection.GridSearchCV(estimator=xgboost.XGBRegressor(),n_jobs=1,cv=2,param_grid=cv_params,verbose=1)\n",
    "gsmodel.fit(X_train,y_train)\n",
    "print(' Score:',gsmodel.score(X_test,y_test))\n",
    "print(gsmodel.best_params_)"
   ]
  },
  {
   "cell_type": "code",
   "execution_count": 121,
   "metadata": {
    "collapsed": false
   },
   "outputs": [],
   "source": [
    "corr_df=preppeddata[traincols].corr()"
   ]
  },
  {
   "cell_type": "code",
   "execution_count": 215,
   "metadata": {
    "collapsed": false,
    "scrolled": true
   },
   "outputs": [
    {
     "name": "stdout",
     "output_type": "stream",
     "text": [
      "     GarageYrBlt\n",
      "Age    -0.780555\n",
      "\n",
      "\n",
      "                  Age\n",
      "GarageYrBlt -0.780555\n",
      "\n",
      "\n",
      "                   GarageType_Attchd\n",
      "GarageType_Detchd          -0.729272\n",
      "\n",
      "\n",
      "                   GarageType_Detchd\n",
      "GarageType_Attchd          -0.729272\n",
      "\n",
      "\n",
      "              ExterQual_Gd\n",
      "ExterQual_TA     -0.906121\n",
      "\n",
      "\n",
      "              ExterQual_TA\n",
      "ExterQual_Gd     -0.906121\n",
      "\n",
      "\n",
      "             SaleType_New\n",
      "SaleType_WD      -0.77368\n",
      "\n",
      "\n",
      "                       SaleType_WD\n",
      "SaleType_New             -0.773680\n",
      "SaleCondition_Partial    -0.769559\n",
      "\n",
      "\n",
      "                KitchenQual_Gd\n",
      "KitchenQual_TA       -0.824457\n",
      "\n",
      "\n",
      "                KitchenQual_TA\n",
      "KitchenQual_Gd       -0.824457\n",
      "\n",
      "\n",
      "                  LotConfig_Corner\n",
      "LotConfig_Inside         -0.752677\n",
      "\n",
      "\n",
      "                  LotConfig_Inside\n",
      "LotConfig_Corner         -0.752677\n",
      "\n",
      "\n",
      "             BsmtQual_Gd\n",
      "BsmtQual_TA    -0.766391\n",
      "\n",
      "\n",
      "             BsmtQual_TA\n",
      "BsmtQual_Gd    -0.766391\n",
      "\n",
      "\n",
      "              CentralAir_N\n",
      "CentralAir_Y          -1.0\n",
      "\n",
      "\n",
      "              CentralAir_Y\n",
      "CentralAir_N          -1.0\n",
      "\n",
      "\n",
      "             SaleCondition_Partial\n",
      "SaleType_WD              -0.769559\n",
      "\n",
      "\n",
      "               RoofStyle_Gable\n",
      "RoofStyle_Hip        -0.933462\n",
      "\n",
      "\n",
      "                 RoofStyle_Hip\n",
      "RoofStyle_Gable      -0.933462\n",
      "\n",
      "\n"
     ]
    }
   ],
   "source": [
    "# From here we will remove correlated columns and see if that improves things, which we realize later doesnt improve things much\n",
    "\n",
    "#Positively Correlated\n",
    "for each in corr_df.columns:\n",
    "    \n",
    "    if (corr_df[(corr_df[each]>0.7) & (corr_df[each]<1)][[each]]).empty==False:\n",
    "#         print('ColName: ',each)\n",
    "        cordf_col=corr_df[(corr_df[each]>0.7) & (corr_df[each]<1)][[each]]\n",
    "        print(cordf_col.index[0],cordf_col.columns[0],round(cordf_col[cordf_col.columns].values[0][0],4))\n",
    "        print('\\n')\n",
    "        \n",
    "# Negatively Correlated\n",
    "for each in corr_df.columns:\n",
    "    \n",
    "    if (corr_df[(corr_df[each]<-0.7)][[each]]).empty==False:\n",
    "\n",
    "        cordf_col=corr_df[(corr_df[each]<-0.7)][[each]]\n",
    "        print(cordf_col)\n",
    "\n",
    "        print('\\n')"
   ]
  },
  {
   "cell_type": "code",
   "execution_count": 238,
   "metadata": {
    "collapsed": false
   },
   "outputs": [],
   "source": [
    "poscolstoremove=['TotRmsAbvGrd','1stFlrSF',\n",
    "              'SaleCondition_Partial'] + [col for col in traincols if col[:11]=='Exterior2nd'] \n",
    "negcolstoremove=['GarageYrBlt','GarageType_Detchd','ExterQual_TA','SaleType_New',\n",
    "              'KitchenQual_TA','LotConfig_Inside','BsmtQual_TA','CentralAir_N','RoofStyle_Gable']\n",
    "allcols=poscolstoremove + negcolstoremove\n",
    "newtraincols=traincols.copy()\n",
    "for eachcol in allcols:\n",
    "    newtraincols.remove(eachcol)\n"
   ]
  },
  {
   "cell_type": "code",
   "execution_count": 253,
   "metadata": {
    "collapsed": false
   },
   "outputs": [
    {
     "name": "stdout",
     "output_type": "stream",
     "text": [
      "0.88234572331423\n"
     ]
    }
   ],
   "source": [
    "# XGBOOST\n",
    "\n",
    "import xgboost\n",
    "xgmod=xgboost.XGBRegressor()\n",
    "scores_xg=model_selection.cross_val_score(X=preppeddata[newtraincols],y=preppeddata.SalePrice,cv=10,estimator=xgmod)\n",
    "print(scores_xg.mean())\n",
    "\n",
    "xgmod.fit(X=preppeddata[traincols],y=preppeddata.SalePrice)\n",
    "saleprice_test_xg=xgmod.predict(testdata)\n",
    "\n",
    "submission_df_xg=pd.DataFrame({'Id':testdata.index,\n",
    "                           'SalePrice':saleprice_test_xg})\n",
    "submission_df_xg.to_csv('submission_xg.csv',index=None)"
   ]
  },
  {
   "cell_type": "code",
   "execution_count": 251,
   "metadata": {
    "collapsed": false
   },
   "outputs": [
    {
     "name": "stdout",
     "output_type": "stream",
     "text": [
      "0.8447475487036408\n"
     ]
    }
   ],
   "source": [
    "# Random Forest\n",
    "\n",
    "rf_1=RandomForestRegressor()\n",
    "# scores=model_selection.cross_val_score(X=preppeddata[traincols],y=preppeddata.SalePrice,cv=5,estimator=rf_1)\n",
    "\n",
    "X_train, X_test, y_train, y_test=model_selection.train_test_split(preppeddata[newtraincols],\n",
    "                                                                  preppeddata.SalePrice,\n",
    "                                                                 test_size=0.4,\n",
    "                                                                 )\n",
    "rf_1.fit(X_train,y_train)\n",
    "print(rf_1.score(X_test,y_test))"
   ]
  },
  {
   "cell_type": "code",
   "execution_count": null,
   "metadata": {
    "collapsed": true
   },
   "outputs": [],
   "source": []
  },
  {
   "cell_type": "code",
   "execution_count": null,
   "metadata": {
    "collapsed": true
   },
   "outputs": [],
   "source": []
  }
 ],
 "metadata": {
  "kernelspec": {
   "display_name": "Python 3.5",
   "language": "python",
   "name": "python3.5"
  },
  "language_info": {
   "codemirror_mode": {
    "name": "ipython",
    "version": 3
   },
   "file_extension": ".py",
   "mimetype": "text/x-python",
   "name": "python",
   "nbconvert_exporter": "python",
   "pygments_lexer": "ipython3",
   "version": "3.5.2"
  }
 },
 "nbformat": 4,
 "nbformat_minor": 2
}
