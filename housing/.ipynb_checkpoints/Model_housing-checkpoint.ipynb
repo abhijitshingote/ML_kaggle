{
 "cells": [
  {
   "cell_type": "code",
   "execution_count": 405,
   "metadata": {
    "collapsed": false
   },
   "outputs": [],
   "source": [
    "import pandas as pd\n",
    "from sklearn import preprocessing\n",
    "%matplotlib inline\n",
    "from operator import itemgetter\n",
    "from sklearn import model_selection\n",
    "\n",
    "# Models\n",
    "from sklearn import linear_model\n",
    "from sklearn.feature_selection import SelectPercentile\n",
    "from sklearn.ensemble import RandomForestRegressor"
   ]
  },
  {
   "cell_type": "code",
   "execution_count": 443,
   "metadata": {
    "collapsed": false
   },
   "outputs": [],
   "source": [
    "# Import Data\n",
    "train_imported_data=pd.read_csv('train.csv',index_col=0)\n",
    "# drop features because lot of NAs\n",
    "train_imported_data=train_imported_data.drop(['PoolQC','MiscFeature','Alley','Fence','FireplaceQu'],axis=1)\n",
    "\n",
    "# Random Forest Feature Importance for numeric columns only\n",
    "numericcol_df=train_imported_data[train_imported_data.describe().columns]\n",
    "numericcol_df=numericcol_df.dropna()"
   ]
  },
  {
   "cell_type": "code",
   "execution_count": 306,
   "metadata": {
    "collapsed": false
   },
   "outputs": [
    {
     "data": {
      "text/plain": [
       "[('OverallQual', 0.6434646775225954),\n",
       " ('GrLivArea', 0.08246701125661325),\n",
       " ('2ndFlrSF', 0.038751132186152386),\n",
       " ('TotalBsmtSF', 0.03130813384970897),\n",
       " ('BsmtFinSF1', 0.03077181417194965),\n",
       " ('1stFlrSF', 0.023588562598181),\n",
       " ('LotArea', 0.0198412069330201),\n",
       " ('TotRmsAbvGrd', 0.01515152540367894),\n",
       " ('GarageArea', 0.014481437512308602),\n",
       " ('GarageCars', 0.013630412905074255),\n",
       " ('YearRemodAdd', 0.012957031567871022),\n",
       " ('LotFrontage', 0.01081458069571108),\n",
       " ('YearBuilt', 0.009321678403102648),\n",
       " ('WoodDeckSF', 0.006654273953919172),\n",
       " ('MoSold', 0.006448235941875322),\n",
       " ('OpenPorchSF', 0.005513589035294334),\n",
       " ('BsmtUnfSF', 0.005187414005737166),\n",
       " ('GarageYrBlt', 0.00486083089079457),\n",
       " ('OverallCond', 0.004796165679735548),\n",
       " ('MasVnrArea', 0.002944411245606478),\n",
       " ('ScreenPorch', 0.002671602107361261),\n",
       " ('MSSubClass', 0.002208782059090899),\n",
       " ('Fireplaces', 0.0019830329871225448),\n",
       " ('FullBath', 0.0016404076934850788),\n",
       " ('HalfBath', 0.0016348547900856725),\n",
       " ('BedroomAbvGr', 0.0015675351411982195),\n",
       " ('YrSold', 0.0015109087579013919),\n",
       " ('EnclosedPorch', 0.0013205526730767749),\n",
       " ('BsmtFullBath', 0.0010517643898189182),\n",
       " ('3SsnPorch', 0.0006318489099007351),\n",
       " ('KitchenAbvGr', 0.0002364262366592932),\n",
       " ('BsmtFinSF2', 0.00022067935063217154),\n",
       " ('BsmtHalfBath', 0.00016679620087825252),\n",
       " ('PoolArea', 7.965830797805807e-05),\n",
       " ('LowQualFinSF', 6.513086373161686e-05),\n",
       " ('MiscVal', 5.589377214936389e-05)]"
      ]
     },
     "execution_count": 306,
     "metadata": {},
     "output_type": "execute_result"
    }
   ],
   "source": [
    "rf=RandomForestRegressor()\n",
    "rf.fit(numericcol_df[numericcol_df.columns[:-1]],numericcol_df.SalePrice)\n",
    "featureimportances_rf=list(zip(numericcol_df.columns,rf.feature_importances_))\n",
    "sorted(featureimportances_rf,key=itemgetter(1),reverse=True)"
   ]
  },
  {
   "cell_type": "code",
   "execution_count": 305,
   "metadata": {
    "collapsed": true
   },
   "outputs": [
    {
     "name": "stderr",
     "output_type": "stream",
     "text": [
      "/Users/abhijitshingote/anaconda/anaconda/lib/python3.6/site-packages/sklearn/utils/__init__.py:54: FutureWarning: Conversion of the second argument of issubdtype from `int` to `np.signedinteger` is deprecated. In future, it will be treated as `np.int64 == np.dtype(int).type`.\n",
      "  if np.issubdtype(mask.dtype, np.int):\n"
     ]
    },
    {
     "data": {
      "text/plain": [
       "[('OverallQual', 5.403632644839143),\n",
       " ('LotArea', 4.146887860101034),\n",
       " ('GrLivArea', 2.974230763263636),\n",
       " ('FullBath', 2.8055691888482177),\n",
       " ('GarageCars', 2.7223046671525957),\n",
       " ('GarageArea', 2.542799193148285),\n",
       " ('YearBuilt', 2.17684107493867),\n",
       " ('1stFlrSF', 2.099827759380018),\n",
       " ('TotalBsmtSF', 2.0162461527931037),\n",
       " ('MasVnrArea', 1.977030830892988),\n",
       " ('GarageYrBlt', 1.9303242653275776),\n",
       " ('TotRmsAbvGrd', 1.9020182031506974),\n",
       " ('YearRemodAdd', 1.866593554750109),\n",
       " ('BsmtFinSF1', 1.6851402356356016),\n",
       " ('OpenPorchSF', 1.5941035627934743),\n",
       " ('2ndFlrSF', 1.574023289583871),\n",
       " ('MiscVal', 1.5495957221719066),\n",
       " ('Fireplaces', 1.495633590238699),\n",
       " ('BsmtUnfSF', 1.4403385349195392),\n",
       " ('BedroomAbvGr', 1.3875334606759988),\n",
       " ('HalfBath', 1.3313496599183177),\n",
       " ('WoodDeckSF', 1.2867182172015725),\n",
       " ('LotFrontage', 1.166027123817521),\n",
       " ('OverallCond', 1.1260823585133908),\n",
       " ('BsmtFullBath', 1.121941073120845),\n",
       " ('ScreenPorch', 1.1102584021672044),\n",
       " ('3SsnPorch', 1.1082136915772618),\n",
       " ('YrSold', 1.043142225590966),\n",
       " ('KitchenAbvGr', 1.026902546858708),\n",
       " ('MoSold', 1.006712628937373),\n",
       " ('BsmtHalfBath', 0.9885802589928062),\n",
       " ('LowQualFinSF', 0.9698242297483772),\n",
       " ('BsmtFinSF2', 0.9449799390600281),\n",
       " ('MSSubClass', 0.91093865379563),\n",
       " ('EnclosedPorch', 0.6516652863203183),\n",
       " ('PoolArea', 0.4809897921131809)]"
      ]
     },
     "execution_count": 305,
     "metadata": {},
     "output_type": "execute_result"
    }
   ],
   "source": [
    "features=SelectPercentile(percentile=50)\n",
    "features.fit_transform(numericcol_df[numericcol_df.columns[:-1]],numericcol_df.SalePrice)\n",
    "featureimportances_kbest=list(zip(numericcol_df.columns,features.scores_))\n",
    "sorted(featureimportances_kbest,key=itemgetter(1),reverse=True)"
   ]
  },
  {
   "cell_type": "code",
   "execution_count": 307,
   "metadata": {
    "collapsed": false
   },
   "outputs": [
    {
     "data": {
      "text/plain": [
       "0.8095197151979678"
      ]
     },
     "execution_count": 307,
     "metadata": {},
     "output_type": "execute_result"
    }
   ],
   "source": [
    "model=linear_model.LinearRegression()\n",
    "model.fit(numericcol_df[numericcol_df.columns[:-1]],numericcol_df.SalePrice)\n",
    "model.score(numericcol_df[numericcol_df.columns[:-1]],numericcol_df.SalePrice)"
   ]
  },
  {
   "cell_type": "code",
   "execution_count": 444,
   "metadata": {
    "collapsed": false
   },
   "outputs": [],
   "source": [
    "# Add neighborhodd and transform year bulit to age\n",
    "\n",
    "numericcol_df=numericcol_df.join(pd.get_dummies(train_imported_data[['Neighborhood']]))\n",
    "numericcol_df['Age']=2018 - numericcol_df['YearBuilt']\n",
    "\n",
    "numericcol_df['AgeafterRemod']=2018 - numericcol_df['YearRemodAdd']\n",
    "numericcol_df=numericcol_df.drop(['YearBuilt','YearRemodAdd'],axis=1)\n"
   ]
  },
  {
   "cell_type": "code",
   "execution_count": 445,
   "metadata": {
    "collapsed": false
   },
   "outputs": [
    {
     "data": {
      "text/plain": [
       "0.8449407994700349"
      ]
     },
     "execution_count": 445,
     "metadata": {},
     "output_type": "execute_result"
    }
   ],
   "source": [
    "traincols=[col for col in numericcol_df.columns if col !='SalePrice']\n",
    "model=linear_model.LinearRegression()\n",
    "model.fit(numericcol_df[traincols],numericcol_df.SalePrice)\n",
    "model.score(numericcol_df[traincols],numericcol_df.SalePrice)"
   ]
  },
  {
   "cell_type": "code",
   "execution_count": 446,
   "metadata": {
    "collapsed": false
   },
   "outputs": [],
   "source": [
    "nonnumericcols=train_imported_data.describe(include=['O']).columns\n",
    "nonnumericcols=[col for col in nonnumericcols if col != 'Neighborhood']"
   ]
  },
  {
   "cell_type": "code",
   "execution_count": 447,
   "metadata": {
    "collapsed": false
   },
   "outputs": [],
   "source": [
    "\n",
    "nonnumeric_df=pd.get_dummies(train_imported_data[nonnumericcols],columns=nonnumericcols)\n",
    "bigdf=numericcol_df.join(nonnumeric_df)"
   ]
  },
  {
   "cell_type": "code",
   "execution_count": 448,
   "metadata": {
    "collapsed": false
   },
   "outputs": [
    {
     "data": {
      "text/plain": [
       "0.9327905394163968"
      ]
     },
     "execution_count": 448,
     "metadata": {},
     "output_type": "execute_result"
    }
   ],
   "source": [
    "bigdf_traincols=[col for col in bigdf.columns if col !='SalePrice']\n",
    "model=linear_model.LinearRegression()\n",
    "model.fit(bigdf[bigdf_traincols],bigdf.SalePrice)\n",
    "model.score(bigdf[bigdf_traincols],bigdf.SalePrice)"
   ]
  },
  {
   "cell_type": "code",
   "execution_count": 449,
   "metadata": {
    "collapsed": false
   },
   "outputs": [
    {
     "name": "stdout",
     "output_type": "stream",
     "text": [
      "LinearRegression: 0.76 \n",
      "\n",
      "RandomForest: 0.84 \n",
      "\n"
     ]
    }
   ],
   "source": [
    "lr=linear_model.LinearRegression()\n",
    "rf=RandomForestRegressor()\n",
    "scores_lr=model_selection.cross_val_score(X=bigdf[bigdf_traincols],y=bigdf.SalePrice,cv=5,estimator=lr)\n",
    "scores_rf=model_selection.cross_val_score(X=bigdf[bigdf_traincols],y=bigdf.SalePrice,cv=5,estimator=rf)\n",
    "print('LinearRegression:',round(scores_lr.mean(),2),'\\n')\n",
    "print('RandomForest:',round(scores_rf.mean(),2),'\\n')"
   ]
  },
  {
   "cell_type": "code",
   "execution_count": 450,
   "metadata": {
    "collapsed": true
   },
   "outputs": [
    {
     "data": {
      "text/plain": [
       "[('OverallQual', 0.6125919880797727),\n",
       " ('GrLivArea', 0.08596632298807341),\n",
       " ('2ndFlrSF', 0.05637034013551221),\n",
       " ('1stFlrSF', 0.02885613149268428),\n",
       " ('TotalBsmtSF', 0.022956363206391855),\n",
       " ('BsmtFinSF1', 0.021974089437550977),\n",
       " ('GarageCars', 0.018927930861948595),\n",
       " ('LotArea', 0.01249739458263804),\n",
       " ('FullBath', 0.008377649960545632),\n",
       " ('BsmtQual_Ex', 0.008321292563057577),\n",
       " ('TotRmsAbvGrd', 0.007536754466178161),\n",
       " ('Age', 0.007520940464036577),\n",
       " ('GarageArea', 0.0065746024016783795),\n",
       " ('BsmtQual_Gd', 0.005781918477247643),\n",
       " ('OverallCond', 0.0049569507492559055),\n",
       " ('AgeafterRemod', 0.004795806519742735),\n",
       " ('GarageFinish_Unf', 0.004726196794203429),\n",
       " ('OpenPorchSF', 0.004564074793565557),\n",
       " ('BsmtUnfSF', 0.0045293211464912265),\n",
       " ('LotFrontage', 0.0045172841583978),\n",
       " ('GarageType_Detchd', 0.003996950111910159),\n",
       " ('MasVnrArea', 0.0030189526132315004),\n",
       " ('WoodDeckSF', 0.0028993657233415526),\n",
       " ('GarageYrBlt', 0.002809640890281955),\n",
       " ('MoSold', 0.0025357275419589467),\n",
       " ('BsmtFinType1_GLQ', 0.0021692126660055227),\n",
       " ('BsmtExposure_No', 0.0020464912793500883),\n",
       " ('Condition1_Norm', 0.002043982363575139),\n",
       " ('BsmtExposure_Gd', 0.0017919853940147209),\n",
       " ('MSZoning_RM', 0.0017549836711933334),\n",
       " ('Fireplaces', 0.0017244567886787947),\n",
       " ('GarageType_Attchd', 0.0015664338403281596),\n",
       " ('ScreenPorch', 0.0015012972714974488),\n",
       " ('HalfBath', 0.0014268833629359453),\n",
       " ('Neighborhood_CollgCr', 0.0013173010933214989),\n",
       " ('BedroomAbvGr', 0.0012243107613351674),\n",
       " ('Condition2_Norm', 0.0012131020776299088),\n",
       " ('KitchenQual_Ex', 0.0012073097932459253),\n",
       " ('BsmtFinType1_ALQ', 0.0011453793255622186),\n",
       " ('YrSold', 0.001109138670358946),\n",
       " ('KitchenQual_TA', 0.0010712048389473383),\n",
       " ('KitchenQual_Gd', 0.0009814337273789681),\n",
       " ('LotConfig_CulDSac', 0.0008447942670256313),\n",
       " ('MSSubClass', 0.000821284529222332),\n",
       " ('BsmtFullBath', 0.0008035161652174622),\n",
       " ('LotConfig_Corner', 0.0007964089366968397),\n",
       " ('3SsnPorch', 0.000779957982043177),\n",
       " ('SaleType_New', 0.0007445539936024083),\n",
       " ('MSZoning_RL', 0.0007411473995600507),\n",
       " ('MasVnrType_Stone', 0.0007340032953880337),\n",
       " ('SaleCondition_Partial', 0.0006562847865969362),\n",
       " ('Exterior2nd_CmentBd', 0.0006393358591198696),\n",
       " ('SaleType_WD', 0.0006212563365567433),\n",
       " ('MasVnrType_BrkFace', 0.0006201562326326631),\n",
       " ('Exterior2nd_VinylSd', 0.0005742139686230917),\n",
       " ('SaleCondition_Abnorml', 0.0005605410317273686),\n",
       " ('BsmtQual_TA', 0.0005169568490954971),\n",
       " ('MSZoning_C (all)', 0.0005013594656993443),\n",
       " ('GarageFinish_Fin', 0.00048532796938298314),\n",
       " ('Exterior1st_VinylSd', 0.0004647730082498163),\n",
       " ('RoofStyle_Hip', 0.00043777563928221473),\n",
       " ('LandContour_Lvl', 0.00042816840703622274),\n",
       " ('CentralAir_Y', 0.00042291083626075593),\n",
       " ('CentralAir_N', 0.0004002637956904212),\n",
       " ('LandSlope_Mod', 0.00038341983872228154),\n",
       " ('SaleCondition_Normal', 0.0003796813121977268),\n",
       " ('Exterior2nd_MetalSd', 0.00037350441608817686),\n",
       " ('Exterior1st_BrkComm', 0.0003647757741579271),\n",
       " ('EnclosedPorch', 0.00035806421708251413),\n",
       " ('Exterior2nd_Wd Sdng', 0.0003458785441235562),\n",
       " ('ExterQual_TA', 0.0003392838476584707),\n",
       " ('GarageType_BuiltIn', 0.000337522657054282),\n",
       " ('GarageFinish_RFn', 0.00032992254564968306),\n",
       " ('LotShape_IR1', 0.00031800510129442234),\n",
       " ('LotConfig_Inside', 0.00030769460663807523),\n",
       " ('BsmtFinSF2', 0.0002980380014978272),\n",
       " ('ExterQual_Gd', 0.00028362788248670275),\n",
       " ('HouseStyle_2.5Fin', 0.00028132908638242045),\n",
       " ('HouseStyle_2Story', 0.00027084223486303894),\n",
       " ('Neighborhood_NAmes', 0.0002665661044728714),\n",
       " ('Neighborhood_NridgHt', 0.00025333944909142626),\n",
       " ('Electrical_SBrkr', 0.000250515225639764),\n",
       " ('Neighborhood_Crawfor', 0.00024029413240873448),\n",
       " ('HeatingQC_TA', 0.0002162410714882137),\n",
       " ('BsmtFinType2_BLQ', 0.0002119602584375483),\n",
       " ('HeatingQC_Ex', 0.00021026693221844607),\n",
       " ('Neighborhood_Somerst', 0.0002003050241306606),\n",
       " ('Functional_Mod', 0.00019308391088091264),\n",
       " ('BsmtFinType1_BLQ', 0.0001865117911931179),\n",
       " ('PavedDrive_P', 0.00018567716916568228),\n",
       " ('RoofStyle_Gable', 0.0001824186938074548),\n",
       " ('LotShape_Reg', 0.00017828179033060654),\n",
       " ('BsmtFinType1_Rec', 0.00017228826405762295),\n",
       " ('Exterior1st_HdBoard', 0.00016224000298364086),\n",
       " ('Foundation_CBlock', 0.00016105418458709284),\n",
       " ('LandSlope_Gtl', 0.00015809105642510787),\n",
       " ('LotConfig_FR3', 0.0001569104813784417),\n",
       " ('Neighborhood_BrkSide', 0.00014828494592010092),\n",
       " ('Exterior2nd_Brk Cmn', 0.000140104729973854),\n",
       " ('SaleType_COD', 0.00013841159877067897),\n",
       " ('GarageQual_Fa', 0.0001309552437436198),\n",
       " ('ExterCond_TA', 0.00013060385215856452),\n",
       " ('BsmtCond_TA', 0.00012624594429913385),\n",
       " ('Neighborhood_Sawyer', 0.00012164159717757492),\n",
       " ('HouseStyle_1.5Fin', 0.00012147510526848537),\n",
       " ('Exterior1st_Wd Sdng', 0.0001164334558431157),\n",
       " ('Exterior2nd_HdBoard', 0.00011574232432653862),\n",
       " ('LandContour_Bnk', 0.00011388514177290174),\n",
       " ('Exterior1st_CemntBd', 0.00010758485012052025),\n",
       " ('HouseStyle_SLvl', 0.00010519444297629483),\n",
       " ('LandContour_HLS', 0.00010369075949739722),\n",
       " ('Exterior1st_MetalSd', 0.00010263255225010929),\n",
       " ('MiscVal', 9.71973135762159e-05),\n",
       " ('BsmtExposure_Av', 9.524057839429528e-05),\n",
       " ('MSZoning_FV', 9.099464830717578e-05),\n",
       " ('HeatingQC_Gd', 8.944015125580444e-05),\n",
       " ('SaleType_ConLD', 8.889904221354961e-05),\n",
       " ('Neighborhood_Edwards', 8.839418723833488e-05),\n",
       " ('Foundation_PConc', 8.824232602847047e-05),\n",
       " ('BsmtHalfBath', 8.754076212998617e-05),\n",
       " ('Exterior2nd_Plywood', 8.221533551050467e-05),\n",
       " ('RoofMatl_CompShg', 8.159801086531269e-05),\n",
       " ('HeatingQC_Fa', 7.95518242358163e-05),\n",
       " ('BsmtFinType2_Rec', 7.818850429924946e-05),\n",
       " ('Neighborhood_NWAmes', 7.317596519412e-05),\n",
       " ('ExterCond_Fa', 6.790478523770952e-05),\n",
       " ('HouseStyle_1Story', 6.732372778228177e-05),\n",
       " ('BsmtFinType1_Unf', 6.308184751244358e-05),\n",
       " ('GarageType_Basment', 6.269841800957613e-05),\n",
       " ('Exterior2nd_Wd Shng', 6.198496074802936e-05),\n",
       " ('RoofStyle_Flat', 5.9309825072069074e-05),\n",
       " ('Functional_Maj2', 5.804388083060332e-05),\n",
       " ('Foundation_Slab', 5.6096043683589406e-05),\n",
       " ('Condition1_Artery', 5.474278544093844e-05),\n",
       " ('BldgType_Duplex', 5.430857746708484e-05),\n",
       " ('Foundation_BrkTil', 5.3068162899952466e-05),\n",
       " ('Neighborhood_MeadowV', 5.014226233786028e-05),\n",
       " ('Neighborhood_SawyerW', 4.821789701253395e-05),\n",
       " ('Neighborhood_OldTown', 4.7573499214518214e-05),\n",
       " ('BsmtExposure_Mn', 4.741359380315155e-05),\n",
       " ('ExterCond_Gd', 4.629980212283364e-05),\n",
       " ('PoolArea', 4.586229564649887e-05),\n",
       " ('BldgType_1Fam', 4.581549224641072e-05),\n",
       " ('Exterior1st_BrkFace', 4.550970211727553e-05),\n",
       " ('LotShape_IR2', 4.41554315736018e-05),\n",
       " ('Neighborhood_StoneBr', 4.210362696770327e-05),\n",
       " ('Functional_Min1', 4.1321500858721217e-05),\n",
       " ('BsmtFinType1_LwQ', 4.004465335042211e-05),\n",
       " ('BsmtFinType2_Unf', 3.982922087914719e-05),\n",
       " ('RoofStyle_Gambrel', 3.857529238274717e-05),\n",
       " ('Heating_GasA', 3.6886711966175074e-05),\n",
       " ('MasVnrType_None', 3.607763264557428e-05),\n",
       " ('Functional_Typ', 3.601066218059954e-05),\n",
       " ('SaleType_Con', 3.5850448898248316e-05),\n",
       " ('GarageQual_TA', 3.205047025021033e-05),\n",
       " ('GarageCond_TA', 3.029537941383031e-05),\n",
       " ('BldgType_TwnhsE', 3.0002902083820794e-05),\n",
       " ('Electrical_FuseA', 2.9308514346087356e-05),\n",
       " ('SaleCondition_Family', 2.7101812434203724e-05),\n",
       " ('ExterQual_Ex', 2.5609537767803183e-05),\n",
       " ('GarageCond_Fa', 2.442160015516322e-05),\n",
       " ('KitchenAbvGr', 2.3063171821427318e-05),\n",
       " ('Condition1_PosN', 2.2418021305441225e-05),\n",
       " ('BsmtCond_Gd', 2.1406705967129073e-05),\n",
       " ('LotConfig_FR2', 2.0513967572118372e-05),\n",
       " ('Neighborhood_NoRidge', 1.9275461606349767e-05),\n",
       " ('Exterior1st_Plywood', 1.904734453531837e-05),\n",
       " ('Exterior2nd_BrkFace', 1.848043720765345e-05),\n",
       " ('Condition1_Feedr', 1.7341272949928788e-05),\n",
       " ('BsmtQual_Fa', 1.6920080283911627e-05),\n",
       " ('PavedDrive_N', 1.5561519501436094e-05),\n",
       " ('PavedDrive_Y', 1.5476603526548472e-05),\n",
       " ('GarageType_2Types', 1.4332701902543568e-05),\n",
       " ('BsmtCond_Fa', 1.3075588229183278e-05),\n",
       " ('Exterior2nd_AsbShng', 1.1404784038870294e-05),\n",
       " ('Neighborhood_Timber', 1.1252769950221484e-05),\n",
       " ('SaleType_ConLw', 1.0783519283204766e-05),\n",
       " ('LandContour_Low', 9.470239473347188e-06),\n",
       " ('Neighborhood_Mitchel', 9.346348576719713e-06),\n",
       " ('Condition1_RRAn', 9.095457203686169e-06),\n",
       " ('BldgType_2fmCon', 9.063811101519741e-06),\n",
       " ('GarageQual_Gd', 8.51833562578737e-06),\n",
       " ('Heating_GasW', 7.956211615475702e-06),\n",
       " ('HouseStyle_2.5Unf', 6.326217799661862e-06),\n",
       " ('Neighborhood_Gilbert', 5.338585413184109e-06),\n",
       " ('Condition1_PosA', 3.7291975706122347e-06),\n",
       " ('SaleCondition_Alloca', 3.706803831618687e-06),\n",
       " ('Neighborhood_IDOTRR', 3.520345179507622e-06),\n",
       " ('GarageType_CarPort', 3.191747147570061e-06),\n",
       " ('Neighborhood_SWISU', 3.1246043543327912e-06),\n",
       " ('Functional_Min2', 2.658327868105852e-06),\n",
       " ('BsmtFinType2_LwQ', 2.452724950026143e-06),\n",
       " ('Exterior2nd_Stucco', 2.2458137206908066e-06),\n",
       " ('Exterior2nd_AsphShn', 2.156309972671377e-06),\n",
       " ('LotShape_IR3', 1.9031035575935032e-06),\n",
       " ('BldgType_Twnhs', 1.8352543943158395e-06),\n",
       " ('RoofMatl_Tar&Grv', 1.6945885297926268e-06),\n",
       " ('Electrical_FuseF', 1.256049602063608e-06),\n",
       " ('Condition2_Artery', 1.1347375976773443e-06),\n",
       " ('ExterQual_Fa', 1.0409555180685407e-06),\n",
       " ('KitchenQual_Fa', 1.0169108506547437e-06),\n",
       " ('BsmtFinType2_ALQ', 9.23693816803823e-07),\n",
       " ('RoofMatl_WdShngl', 7.910152110260182e-07),\n",
       " ('Exterior2nd_ImStucc', 7.776868083171821e-07),\n",
       " ('Exterior1st_WdShing', 7.078538305221766e-07),\n",
       " ('Neighborhood_BrDale', 6.466655689666649e-07),\n",
       " ('Condition1_RRAe', 5.721856611700821e-07),\n",
       " ('LowQualFinSF', 4.713398347571336e-07),\n",
       " ('Foundation_Stone', 4.160197925271148e-07),\n",
       " ('Condition2_RRNn', 3.927395925234469e-07),\n",
       " ('Neighborhood_Veenker', 3.661951308121221e-07),\n",
       " ('Functional_Maj1', 3.401648460458044e-07),\n",
       " ('HouseStyle_1.5Unf', 3.0905315193811e-07),\n",
       " ('HouseStyle_SFoyer', 2.607279259438454e-07),\n",
       " ('Condition2_Feedr', 1.8187364835234725e-07),\n",
       " ('BsmtFinType2_GLQ', 1.5022374366485572e-07),\n",
       " ('Foundation_Wood', 1.0551230239901028e-07),\n",
       " ('GarageCond_Gd', 9.891778349907214e-08),\n",
       " ('SaleCondition_AdjLand', 5.585356323053827e-08),\n",
       " ('GarageCond_Ex', 4.1952231937702783e-08),\n",
       " ('Electrical_FuseP', 3.8129365832047456e-08),\n",
       " ('Exterior1st_AsbShng', 2.4164409540404944e-08),\n",
       " ('Neighborhood_ClearCr', 1.5113691040885506e-08),\n",
       " ('RoofStyle_Mansard', 1.4298512187017795e-08),\n",
       " ('MSZoning_RH', 1.281205680355529e-08),\n",
       " ('Exterior1st_Stucco', 9.035965547990299e-09),\n",
       " ('Neighborhood_Blmngtn', 8.54137120233761e-09),\n",
       " ('Neighborhood_Blueste', 0.0),\n",
       " ('Neighborhood_NPkVill', 0.0),\n",
       " ('Street_Grvl', 0.0),\n",
       " ('Street_Pave', 0.0),\n",
       " ('Utilities_AllPub', 0.0),\n",
       " ('Utilities_NoSeWa', 0.0),\n",
       " ('LandSlope_Sev', 0.0),\n",
       " ('Condition1_RRNe', 0.0),\n",
       " ('Condition1_RRNn', 0.0),\n",
       " ('Condition2_PosA', 0.0),\n",
       " ('Condition2_PosN', 0.0),\n",
       " ('Condition2_RRAe', 0.0),\n",
       " ('Condition2_RRAn', 0.0),\n",
       " ('RoofStyle_Shed', 0.0),\n",
       " ('RoofMatl_ClyTile', 0.0),\n",
       " ('RoofMatl_Membran', 0.0),\n",
       " ('RoofMatl_Metal', 0.0),\n",
       " ('RoofMatl_Roll', 0.0),\n",
       " ('RoofMatl_WdShake', 0.0),\n",
       " ('Exterior1st_AsphShn', 0.0),\n",
       " ('Exterior1st_CBlock', 0.0),\n",
       " ('Exterior1st_ImStucc', 0.0),\n",
       " ('Exterior1st_Stone', 0.0),\n",
       " ('Exterior2nd_CBlock', 0.0),\n",
       " ('Exterior2nd_Other', 0.0),\n",
       " ('Exterior2nd_Stone', 0.0),\n",
       " ('MasVnrType_BrkCmn', 0.0),\n",
       " ('ExterCond_Ex', 0.0),\n",
       " ('ExterCond_Po', 0.0),\n",
       " ('BsmtCond_Po', 0.0),\n",
       " ('Heating_Floor', 0.0),\n",
       " ('Heating_Grav', 0.0),\n",
       " ('Heating_OthW', 0.0),\n",
       " ('Heating_Wall', 0.0),\n",
       " ('HeatingQC_Po', 0.0),\n",
       " ('Electrical_Mix', 0.0),\n",
       " ('Functional_Sev', 0.0),\n",
       " ('GarageQual_Ex', 0.0),\n",
       " ('GarageQual_Po', 0.0),\n",
       " ('GarageCond_Po', 0.0),\n",
       " ('SaleType_CWD', 0.0),\n",
       " ('SaleType_ConLI', 0.0),\n",
       " ('SaleType_Oth', 0.0)]"
      ]
     },
     "execution_count": 450,
     "metadata": {},
     "output_type": "execute_result"
    }
   ],
   "source": [
    "rf.fit(X=bigdf[bigdf_traincols],y=bigdf.SalePrice)\n",
    "featureimportances_rf=list(zip(bigdf_traincols,rf.feature_importances_))\n",
    "sorted(featureimportances_rf,key=itemgetter(1),reverse=True)"
   ]
  },
  {
   "cell_type": "code",
   "execution_count": 463,
   "metadata": {
    "collapsed": false
   },
   "outputs": [],
   "source": [
    "newcolsforgrouping=[col.split('_')[0] for col in bigdf_traincols]\n",
    "\n",
    "importance_df=pd.DataFrame({'colname':newcolsforgrouping,\n",
    "             'importancescore':rf.feature_importances_*1000})"
   ]
  },
  {
   "cell_type": "code",
   "execution_count": 464,
   "metadata": {
    "collapsed": false
   },
   "outputs": [],
   "source": [
    "importance_df=importance_df.groupby('colname').sum().sort_values(by='importancescore',ascending=False)"
   ]
  },
  {
   "cell_type": "code",
   "execution_count": 471,
   "metadata": {
    "collapsed": false
   },
   "outputs": [],
   "source": [
    "impcolsonly=[col for col in bigdf_traincols if col.split('_')[0] in importance_df.index[:30]]"
   ]
  },
  {
   "cell_type": "code",
   "execution_count": 474,
   "metadata": {
    "collapsed": false
   },
   "outputs": [
    {
     "name": "stdout",
     "output_type": "stream",
     "text": [
      "Number of columns:  10\n",
      "LinearRegression: 0.77 \n",
      "\n",
      "RandomForest: 0.83 \n",
      "\n",
      "Number of columns:  20\n",
      "LinearRegression: 0.78 \n",
      "\n",
      "RandomForest: 0.85 \n",
      "\n",
      "Number of columns:  30\n",
      "LinearRegression: 0.81 \n",
      "\n",
      "RandomForest: 0.83 \n",
      "\n",
      "Number of columns:  40\n",
      "LinearRegression: 0.8 \n",
      "\n",
      "RandomForest: 0.83 \n",
      "\n",
      "Number of columns:  50\n",
      "LinearRegression: 0.8 \n",
      "\n",
      "RandomForest: 0.84 \n",
      "\n",
      "Number of columns:  60\n",
      "LinearRegression: 0.78 \n",
      "\n",
      "RandomForest: 0.85 \n",
      "\n",
      "Number of columns:  70\n",
      "LinearRegression: 0.78 \n",
      "\n",
      "RandomForest: 0.83 \n",
      "\n",
      "Number of columns:  80\n",
      "LinearRegression: 0.79 \n",
      "\n",
      "RandomForest: 0.84 \n",
      "\n",
      "Number of columns:  90\n",
      "LinearRegression: 0.79 \n",
      "\n",
      "RandomForest: 0.84 \n",
      "\n"
     ]
    }
   ],
   "source": [
    "num_cols_array=range(10,100,10)\n",
    "for num_cols in num_cols_array:\n",
    "\n",
    "    impcolsonly=[col for col in bigdf_traincols if col.split('_')[0] in importance_df.index[:num_cols]]\n",
    "    lr=linear_model.LinearRegression()\n",
    "    rf=RandomForestRegressor()\n",
    "    scores_lr=model_selection.cross_val_score(X=bigdf[impcolsonly],y=bigdf.SalePrice,cv=10,estimator=lr)\n",
    "    scores_rf=model_selection.cross_val_score(X=bigdf[impcolsonly],y=bigdf.SalePrice,cv=10,estimator=rf)\n",
    "    print('Number of columns: ',num_cols)\n",
    "    print('LinearRegression:',round(scores_lr.mean(),2),'\\n')\n",
    "    print('RandomForest:',round(scores_rf.mean(),2),'\\n')"
   ]
  },
  {
   "cell_type": "code",
   "execution_count": 477,
   "metadata": {
    "collapsed": false
   },
   "outputs": [
    {
     "data": {
      "text/plain": [
       "Index(['OverallQual', 'GrLivArea', '2ndFlrSF', '1stFlrSF', 'TotalBsmtSF',\n",
       "       'BsmtFinSF1', 'GarageCars', 'BsmtQual', 'LotArea', 'FullBath',\n",
       "       'TotRmsAbvGrd', 'Age', 'GarageArea', 'GarageType', 'GarageFinish',\n",
       "       'OverallCond', 'AgeafterRemod', 'OpenPorchSF', 'BsmtUnfSF',\n",
       "       'LotFrontage', 'BsmtExposure', 'BsmtFinType1', 'KitchenQual',\n",
       "       'MSZoning', 'MasVnrArea', 'Neighborhood', 'WoodDeckSF', 'GarageYrBlt',\n",
       "       'MoSold', 'Exterior2nd', 'Condition1', 'LotConfig', 'Fireplaces',\n",
       "       'SaleType', 'SaleCondition', 'ScreenPorch', 'HalfBath', 'MasVnrType',\n",
       "       'Exterior1st', 'BedroomAbvGr', 'Condition2', 'YrSold', 'HouseStyle',\n",
       "       'CentralAir', 'MSSubClass', 'BsmtFullBath', '3SsnPorch', 'RoofStyle',\n",
       "       'LandContour', 'ExterQual', 'HeatingQC', 'LotShape', 'LandSlope',\n",
       "       'Foundation', 'EnclosedPorch', 'BsmtFinType2', 'Functional',\n",
       "       'BsmtFinSF2', 'Electrical', 'ExterCond'],\n",
       "      dtype='object', name='colname')"
      ]
     },
     "execution_count": 477,
     "metadata": {},
     "output_type": "execute_result"
    }
   ],
   "source": [
    "importance_df.index[:60]"
   ]
  },
  {
   "cell_type": "code",
   "execution_count": null,
   "metadata": {
    "collapsed": true
   },
   "outputs": [],
   "source": []
  }
 ],
 "metadata": {
  "kernelspec": {
   "display_name": "Python 3",
   "language": "python",
   "name": "python3"
  },
  "language_info": {
   "codemirror_mode": {
    "name": "ipython",
    "version": 3
   },
   "file_extension": ".py",
   "mimetype": "text/x-python",
   "name": "python",
   "nbconvert_exporter": "python",
   "pygments_lexer": "ipython3",
   "version": "3.6.0"
  }
 },
 "nbformat": 4,
 "nbformat_minor": 2
}
