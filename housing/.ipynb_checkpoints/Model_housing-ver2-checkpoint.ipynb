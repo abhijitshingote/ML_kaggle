{
 "cells": [
  {
   "cell_type": "code",
   "execution_count": 1,
   "metadata": {
    "collapsed": false
   },
   "outputs": [],
   "source": [
    "import pandas as pd\n",
    "from sklearn import preprocessing\n",
    "%matplotlib inline\n",
    "from operator import itemgetter\n",
    "from sklearn import model_selection\n",
    "\n",
    "# Models\n",
    "from sklearn import linear_model\n",
    "from sklearn.feature_selection import SelectPercentile\n",
    "from sklearn.ensemble import RandomForestRegressor"
   ]
  },
  {
   "cell_type": "code",
   "execution_count": 2,
   "metadata": {
    "collapsed": false
   },
   "outputs": [],
   "source": [
    "# Import Data\n",
    "train_imported_data=pd.read_csv('train.csv',index_col=0)\n",
    "# drop features because lot of NAs\n",
    "train_imported_data=train_imported_data.drop(['PoolQC','MiscFeature','Alley','Fence','FireplaceQu'],axis=1)\n",
    "\n",
    "# Prepare Data\n",
    "# Numeric Columns\n",
    "numericcol_df=train_imported_data[train_imported_data.describe().columns]\n",
    "numericcol_df=numericcol_df.dropna()\n",
    "numericcol_df['Age']=2018 - numericcol_df['YearBuilt']\n",
    "numericcol_df['AgeafterRemod']=2018 - numericcol_df['YearRemodAdd']\n",
    "numericcol_df=numericcol_df.drop(['YearBuilt','YearRemodAdd'],axis=1)\n",
    "\n",
    "# non numeric columns - One Hot Encode\n",
    "nonnumericcols=train_imported_data.describe(include=['O']).columns\n",
    "nonnumeric_df=pd.get_dummies(train_imported_data[nonnumericcols],columns=nonnumericcols)\n",
    "\n",
    "# Combine numerical and categorical columns in one dataframe\n",
    "bigdf=numericcol_df.join(nonnumeric_df)"
   ]
  },
  {
   "cell_type": "code",
   "execution_count": 4,
   "metadata": {
    "collapsed": false
   },
   "outputs": [
    {
     "name": "stdout",
     "output_type": "stream",
     "text": [
      "LinearRegression: 0.76 \n",
      "\n",
      "RandomForest: 0.84 \n",
      "\n"
     ]
    }
   ],
   "source": [
    "# Check model performance\n",
    "bigdf_traincols=[col for col in bigdf.columns if col !='SalePrice']\n",
    "\n",
    "lr=linear_model.LinearRegression()\n",
    "rf=RandomForestRegressor()\n",
    "scores_lr=model_selection.cross_val_score(X=bigdf[bigdf_traincols],y=bigdf.SalePrice,cv=5,estimator=lr)\n",
    "scores_rf=model_selection.cross_val_score(X=bigdf[bigdf_traincols],y=bigdf.SalePrice,cv=5,estimator=rf)\n",
    "print('LinearRegression:',round(scores_lr.mean(),2),'\\n')\n",
    "print('RandomForest:',round(scores_rf.mean(),2),'\\n')"
   ]
  },
  {
   "cell_type": "code",
   "execution_count": 7,
   "metadata": {
    "collapsed": false
   },
   "outputs": [
    {
     "name": "stdout",
     "output_type": "stream",
     "text": [
      "Number of columns:  10\n",
      "LinearRegression: 0.752 \n",
      "\n",
      "RandomForest: 0.83 \n",
      "\n",
      "Number of columns:  20\n",
      "LinearRegression: 0.772 \n",
      "\n",
      "RandomForest: 0.838 \n",
      "\n",
      "Number of columns:  30\n",
      "LinearRegression: 0.771 \n",
      "\n",
      "RandomForest: 0.842 \n",
      "\n",
      "Number of columns:  40\n",
      "LinearRegression: 0.799 \n",
      "\n",
      "RandomForest: 0.852 \n",
      "\n",
      "Number of columns:  50\n",
      "LinearRegression: 0.788 \n",
      "\n",
      "RandomForest: 0.849 \n",
      "\n",
      "Number of columns:  60\n",
      "LinearRegression: 0.781 \n",
      "\n",
      "RandomForest: 0.847 \n",
      "\n",
      "Number of columns:  70\n",
      "LinearRegression: 0.785 \n",
      "\n",
      "RandomForest: 0.844 \n",
      "\n",
      "Number of columns:  80\n",
      "LinearRegression: 0.786 \n",
      "\n",
      "RandomForest: 0.85 \n",
      "\n",
      "Number of columns:  90\n",
      "LinearRegression: 0.786 \n",
      "\n",
      "RandomForest: 0.833 \n",
      "\n"
     ]
    }
   ],
   "source": [
    "newcolsforgrouping=[col.split('_')[0] for col in bigdf_traincols]\n",
    "\n",
    "rf.fit(bigdf[bigdf_traincols],y=bigdf.SalePrice)\n",
    "importance_df=pd.DataFrame({'colname':newcolsforgrouping,\n",
    "             'importancescore':rf.feature_importances_*1000})\n",
    "importance_df=importance_df.groupby('colname').sum().sort_values(by='importancescore',ascending=False)\n",
    "\n",
    "impcolsonly=[col for col in bigdf_traincols if col.split('_')[0] in importance_df.index[:30]]\n",
    "\n",
    "num_cols_array=range(10,100,10)\n",
    "for num_cols in num_cols_array:\n",
    "\n",
    "    impcolsonly=[col for col in bigdf_traincols if col.split('_')[0] in importance_df.index[:num_cols]]\n",
    "    lr=linear_model.LinearRegression()\n",
    "    rf=RandomForestRegressor()\n",
    "    scores_lr=model_selection.cross_val_score(X=bigdf[impcolsonly],y=bigdf.SalePrice,cv=10,estimator=lr)\n",
    "    scores_rf=model_selection.cross_val_score(X=bigdf[impcolsonly],y=bigdf.SalePrice,cv=10,estimator=rf)\n",
    "    print('Number of columns: ',num_cols)\n",
    "    print('LinearRegression:',round(scores_lr.mean(),3),'\\n')\n",
    "    print('RandomForest:',round(scores_rf.mean(),3),'\\n')"
   ]
  },
  {
   "cell_type": "code",
   "execution_count": 12,
   "metadata": {
    "collapsed": false
   },
   "outputs": [
    {
     "data": {
      "text/plain": [
       "Index(['OverallQual', 'GrLivArea', '2ndFlrSF', 'BsmtFinSF1', 'TotalBsmtSF',\n",
       "       'FullBath', '1stFlrSF', 'LotArea', 'TotRmsAbvGrd', 'GarageArea',\n",
       "       'AgeafterRemod', 'OpenPorchSF', 'LotFrontage', 'BsmtUnfSF', 'BsmtQual',\n",
       "       'Exterior2nd', 'GarageType', 'WoodDeckSF', 'OverallCond', 'GarageCars',\n",
       "       'MoSold', 'Age', 'BsmtExposure', 'CentralAir', 'GarageFinish',\n",
       "       'LotShape', 'GarageYrBlt', 'MasVnrArea', 'LotConfig', 'RoofStyle',\n",
       "       'Neighborhood', 'SaleCondition', 'MasVnrType', 'ExterQual',\n",
       "       'KitchenQual', 'Fireplaces', 'MSZoning', 'HalfBath', 'BedroomAbvGr',\n",
       "       'ScreenPorch'],\n",
       "      dtype='object', name='colname')"
      ]
     },
     "execution_count": 12,
     "metadata": {},
     "output_type": "execute_result"
    }
   ],
   "source": [
    "# As we can see the performance is highest with 40 columns, so we will selct those 40 columns and futrther tune \n",
    "# them to improve the model\n",
    "importance_df.index[:40]"
   ]
  },
  {
   "cell_type": "code",
   "execution_count": 71,
   "metadata": {
    "collapsed": false
   },
   "outputs": [],
   "source": [
    "## TRAINING THE MODEL\n",
    "\n",
    "# Prepping the data\n",
    "def preprocess_data(filename):\n",
    "    df=pd.read_csv(filename,index_col=0)\n",
    "    df['Age']=2018 - df['YearBuilt']\n",
    "    df['AgeafterRemod']=2018 - df['YearRemodAdd']\n",
    "    df= df[importance_df.index[:40]]\n",
    "    cat_cols=df.describe(include=['O']).columns\n",
    "    df=pd.get_dummies(df)\n",
    "    \n",
    "    df['LotFrontage']=df['LotFrontage'].fillna(df['LotFrontage'].mean())\n",
    "    df['GarageYrBlt']=df['GarageYrBlt'].fillna(df['GarageYrBlt'].mean())\n",
    "    df['MasVnrArea']=df['MasVnrArea'].fillna(df['MasVnrArea'].mean())\n",
    "    \n",
    "    return df\n"
   ]
  },
  {
   "cell_type": "code",
   "execution_count": 72,
   "metadata": {
    "collapsed": false
   },
   "outputs": [],
   "source": [
    "preppeddata=preprocess_data('train.csv')\n",
    "traindata=pd.read_csv('train.csv',index_col=0)\n",
    "preppeddata=preppeddata.join(traindata[['SalePrice']],how='inner')\n",
    "traincols=[x for x in preppeddata if x !='SalePrice']"
   ]
  },
  {
   "cell_type": "code",
   "execution_count": 73,
   "metadata": {
    "collapsed": false
   },
   "outputs": [],
   "source": [
    "rf_1=RandomForestRegressor()\n",
    "scores=model_selection.cross_val_score(X=preppeddata[traincols],y=preppeddata.SalePrice,cv=5,estimator=rf_1)"
   ]
  },
  {
   "cell_type": "code",
   "execution_count": 75,
   "metadata": {
    "collapsed": false
   },
   "outputs": [
    {
     "data": {
      "text/plain": [
       "0.8463032727135553"
      ]
     },
     "execution_count": 75,
     "metadata": {},
     "output_type": "execute_result"
    }
   ],
   "source": [
    "scores.mean()"
   ]
  },
  {
   "cell_type": "code",
   "execution_count": null,
   "metadata": {
    "collapsed": true
   },
   "outputs": [],
   "source": []
  }
 ],
 "metadata": {
  "kernelspec": {
   "display_name": "Python 3",
   "language": "python",
   "name": "python3"
  },
  "language_info": {
   "codemirror_mode": {
    "name": "ipython",
    "version": 3
   },
   "file_extension": ".py",
   "mimetype": "text/x-python",
   "name": "python",
   "nbconvert_exporter": "python",
   "pygments_lexer": "ipython3",
   "version": "3.6.0"
  }
 },
 "nbformat": 4,
 "nbformat_minor": 2
}
