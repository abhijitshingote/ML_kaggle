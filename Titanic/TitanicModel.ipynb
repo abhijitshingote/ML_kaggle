{
 "cells": [
  {
   "cell_type": "code",
   "execution_count": 1,
   "metadata": {
    "collapsed": false
   },
   "outputs": [],
   "source": [
    "import pandas as pd\n",
    "from sklearn import linear_model\n",
    "from sklearn.model_selection import train_test_split\n",
    "from sklearn import svm\n",
    "from sklearn.model_selection import GridSearchCV\n",
    "from sklearn import tree"
   ]
  },
  {
   "cell_type": "code",
   "execution_count": 2,
   "metadata": {
    "collapsed": false
   },
   "outputs": [],
   "source": [
    "rawdata=pd.read_csv('train.csv')\n",
    "\n",
    "# PREPROCESS DATA\n",
    "rawdata.loc[:,'Age']=rawdata[['Age']].fillna(rawdata[['Age']].mean())\n",
    "rawdata=rawdata.drop(['PassengerId','Name','Ticket','Cabin'],axis=1)\n",
    "rawdata=pd.get_dummies(rawdata,columns=['Pclass','Sex','SibSp','Parch','Embarked'])\n",
    "\n",
    "# Train Test Split\n",
    "X_train, X_test, y_train, y_test = train_test_split(\n",
    "    # features\n",
    "    rawdata[[col for col in rawdata.columns if col != 'Survived']],\n",
    "    # targets\n",
    "    rawdata.Survived, test_size=0.4, random_state=0)\n",
    "\n"
   ]
  },
  {
   "cell_type": "code",
   "execution_count": 3,
   "metadata": {
    "collapsed": false
   },
   "outputs": [],
   "source": [
    "# Create a Models dictionary to house the parameter data for the different params\n",
    "MODELS=[\n",
    "    {\n",
    "        'model': svm.SVC(),\n",
    "        'params':{\n",
    "            'C':[0.001,0.01,0.1,1],\n",
    "            'kernel':['linear']},\n",
    "         'name':'SVC'\n",
    "              },\n",
    "    \n",
    "    {\n",
    "        'model': linear_model.LogisticRegression(),\n",
    "        'params':{\n",
    "        'C':[0.001,0.01,0.1,1]},\n",
    "        'name':'Logistic'\n",
    "              },\n",
    "    \n",
    "    {\n",
    "        'model': tree.DecisionTreeClassifier(),\n",
    "        'params':{'criterion':['gini','entropy'],\n",
    "        'max_depth':[None,3,10,25],},\n",
    "        'name':'DecisionTree'\n",
    "              },\n",
    "]"
   ]
  },
  {
   "cell_type": "code",
   "execution_count": 4,
   "metadata": {
    "collapsed": true
   },
   "outputs": [],
   "source": [
    "def GridSearchModelling(X_train,y_train,X_test,y_test):\n",
    "    for model in MODELS:\n",
    "        gsmodel=GridSearchCV(estimator=model['model'],n_jobs=1,cv=10,param_grid=model['params'],verbose=1)\n",
    "        gsmodel.fit(X_train,y_train)\n",
    "        print(model['name'],' Score:',gsmodel.score(X_test,y_test))\n",
    "        print(gsmodel.best_params_)"
   ]
  },
  {
   "cell_type": "code",
   "execution_count": 5,
   "metadata": {
    "collapsed": false
   },
   "outputs": [
    {
     "name": "stdout",
     "output_type": "stream",
     "text": [
      "Fitting 10 folds for each of 4 candidates, totalling 40 fits\n"
     ]
    },
    {
     "name": "stderr",
     "output_type": "stream",
     "text": [
      "[Parallel(n_jobs=1)]: Done  40 out of  40 | elapsed:   57.2s finished\n"
     ]
    },
    {
     "name": "stdout",
     "output_type": "stream",
     "text": [
      "SVC  Score: 0.7787114845938375\n",
      "{'C': 0.1, 'kernel': 'linear'}\n",
      "Fitting 10 folds for each of 4 candidates, totalling 40 fits\n",
      "Logistic  Score: 0.7955182072829131\n",
      "{'C': 1}\n",
      "Fitting 10 folds for each of 8 candidates, totalling 80 fits\n"
     ]
    },
    {
     "name": "stderr",
     "output_type": "stream",
     "text": [
      "[Parallel(n_jobs=1)]: Done  40 out of  40 | elapsed:    0.1s finished\n"
     ]
    },
    {
     "name": "stdout",
     "output_type": "stream",
     "text": [
      "DecisionTree  Score: 0.8095238095238095\n",
      "{'criterion': 'gini', 'max_depth': 3}\n"
     ]
    },
    {
     "name": "stderr",
     "output_type": "stream",
     "text": [
      "[Parallel(n_jobs=1)]: Done  80 out of  80 | elapsed:    0.3s finished\n"
     ]
    }
   ],
   "source": [
    "GridSearchModelling(X_train, y_train, X_test, y_test)"
   ]
  },
  {
   "cell_type": "code",
   "execution_count": null,
   "metadata": {
    "collapsed": true
   },
   "outputs": [],
   "source": []
  }
 ],
 "metadata": {
  "kernelspec": {
   "display_name": "Python 3",
   "language": "python",
   "name": "python3"
  },
  "language_info": {
   "codemirror_mode": {
    "name": "ipython",
    "version": 3
   },
   "file_extension": ".py",
   "mimetype": "text/x-python",
   "name": "python",
   "nbconvert_exporter": "python",
   "pygments_lexer": "ipython3",
   "version": "3.6.0"
  }
 },
 "nbformat": 4,
 "nbformat_minor": 2
}
